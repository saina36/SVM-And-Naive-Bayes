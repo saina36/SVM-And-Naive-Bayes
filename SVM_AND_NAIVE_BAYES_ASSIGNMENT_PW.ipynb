{
  "nbformat": 4,
  "nbformat_minor": 0,
  "metadata": {
    "colab": {
      "provenance": [],
      "gpuType": "T4"
    },
    "kernelspec": {
      "name": "python3",
      "display_name": "Python 3"
    },
    "language_info": {
      "name": "python"
    },
    "accelerator": "GPU"
  },
  "cells": [
    {
      "cell_type": "markdown",
      "source": [
        "#ASSIGNMENT\n",
        "#PWSKILLS\n",
        "#SVM AND NAIVE BAYES\n",
        "#THEORY QUESTIONS\n",
        "\n",
        "\n",
        "\n",
        "**1. What is a Support Vector Machine (SVM)?**\n",
        "\n",
        "SVM is a supervised learning algorithm used for classification and regression. It finds the optimal hyperplane that best separates data points of different classes with the maximum margin.\n",
        "\n",
        "**2. What is the difference between Hard Margin and Soft Margin SVM?**\n",
        "\n",
        "* **Hard Margin**: No tolerance for misclassification; assumes data is linearly separable.\n",
        "* **Soft Margin**: Allows some misclassifications; better for noisy and non-linearly separable data.\n",
        "\n",
        "**3. What is the mathematical intuition behind SVM?**\n",
        "\n",
        "SVM maximizes the **margin** between support vectors of different classes. This is achieved by solving a convex optimization problem to find the optimal hyperplane.\n",
        "\n",
        "**4. What is the role of Lagrange Multipliers in SVM?**\n",
        "\n",
        "Lagrange Multipliers convert the constrained optimization problem into a dual problem, making it easier to solve and allowing the use of kernels for non-linear classification.\n",
        "\n",
        "**5. What are Support Vectors in SVM?**\n",
        "\n",
        "Support Vectors are the data points closest to the hyperplane. They are critical in defining the decision boundary and margin.\n",
        "\n",
        "**6. What is a Support Vector Classifier (SVC)?**\n",
        "\n",
        "SVC is the classification implementation of SVM. It constructs a hyperplane that separates data into classes with maximum margin.\n",
        "\n",
        "**7. What is a Support Vector Regressor (SVR)?**\n",
        "\n",
        "SVR applies SVM for regression tasks. It tries to fit the best line (or curve) within a predefined margin of tolerance (epsilon) while minimizing prediction error.\n",
        "\n",
        "**8. What is the Kernel Trick in SVM?**\n",
        "\n",
        "The Kernel Trick allows SVM to solve non-linear problems by implicitly mapping input features to a higher-dimensional space without explicitly computing the transformation.\n",
        "\n",
        "**9. Compare Linear Kernel, Polynomial Kernel, and RBF Kernel:**\n",
        "\n",
        "* **Linear**: Best for linearly separable data.\n",
        "* **Polynomial**: Captures interactions of features using polynomial degrees.\n",
        "* **RBF (Radial Basis Function)**: Captures complex, non-linear relationships using a Gaussian function.\n",
        "\n",
        "**10. What is the effect of the C parameter in SVM?**\n",
        "\n",
        "C controls the trade-off between maximizing margin and minimizing classification error.\n",
        "\n",
        "* High C: Low bias, overfitting risk.\n",
        "* Low C: Higher bias, better generalization.\n",
        "\n",
        "**11. What is the role of the Gamma parameter in RBF Kernel SVM?**\n",
        "\n",
        "Gamma defines how far the influence of a single training example reaches.\n",
        "\n",
        "* High Gamma: Overfitting risk (more localized).\n",
        "* Low Gamma: Underfitting risk (more generalized).\n",
        "\n",
        "**12. What is the Naïve Bayes classifier, and why is it called \"Naïve\"?**\n",
        "\n",
        "Naïve Bayes is a probabilistic classifier based on Bayes’ Theorem. It’s called “naïve” because it assumes that all features are independent given the class label.\n",
        "\n",
        "\n",
        "**13. What is Bayes’ Theorem?**\n",
        "Bayes’ Theorem calculates the probability of a hypothesis given evidence:\n",
        "P(A|B) = (P(B|A) × P(A)) / P(B)\n",
        "\n",
        "**14. Explain the differences between Gaussian Naïve Bayes, Multinomial Naïve Bayes, and Bernoulli Naïve Bayes:**\n",
        "\n",
        "* **Gaussian**: For continuous data (assumes normal distribution).\n",
        "* **Multinomial**: For count data (like word counts).\n",
        "* **Bernoulli**: For binary features (e.g., word presence/absence).\n",
        "\n",
        "**15. When should you use Gaussian Naïve Bayes over other variants?**\n",
        "Use Gaussian NB when your features are **continuous** and **normally distributed**, such as height, weight, or temperature.\n",
        "\n",
        "**16. What are the key assumptions made by Naïve Bayes?**\n",
        "\n",
        "* Features are conditionally independent given the class.\n",
        "* No correlation between features.\n",
        "\n",
        "**17. What are the advantages and disadvantages of Naïve Bayes?**\n",
        "\n",
        "* **Advantages**: Fast, works well with high-dimensional data, robust to irrelevant features.\n",
        "* **Disadvantages**: Assumes feature independence; may perform poorly with highly correlated data.\n",
        "\n",
        "**18. Why is Naïve Bayes a good choice for text classification?**\n",
        "\n",
        "Because text data is high-dimensional and sparse, Naïve Bayes handles it efficiently using word frequencies and conditional probabilities.\n",
        "\n",
        "**19. Compare SVM and Naïve Bayes for classification tasks:**\n",
        "\n",
        "* **SVM**: Better for complex, non-linear decision boundaries; slower on large datasets.\n",
        "* **Naïve Bayes**: Simpler, faster, performs well on text and high-dimensional data.\n",
        "\n",
        "**20. How does Laplace Smoothing help in Naïve Bayes?**\n",
        "\n",
        "Laplace Smoothing avoids zero probabilities for unseen feature-class combinations by adding a small constant (usually 1) to all counts.\n",
        "\n",
        "\n",
        "\n",
        "\n",
        "\n"
      ],
      "metadata": {
        "id": "zVUdLOPi5Hij"
      }
    },
    {
      "cell_type": "markdown",
      "source": [
        "#PRACTICAL QUESTIONS"
      ],
      "metadata": {
        "id": "Hkm0miZr7klx"
      }
    },
    {
      "cell_type": "code",
      "execution_count": 1,
      "metadata": {
        "colab": {
          "base_uri": "https://localhost:8080/"
        },
        "id": "jLIjf9AE47YA",
        "outputId": "31dc708a-30ff-4602-81a5-9a20f5e7efdb"
      },
      "outputs": [
        {
          "output_type": "stream",
          "name": "stdout",
          "text": [
            "Accuracy: 1.0\n"
          ]
        }
      ],
      "source": [
        "# 1. Write a Python program to train an SVM Classifier on the Iris dataset and evaluate accuracy\n",
        "\n",
        "from sklearn.datasets import load_iris\n",
        "from sklearn.svm import SVC\n",
        "from sklearn.model_selection import train_test_split\n",
        "from sklearn.metrics import accuracy_score\n",
        "\n",
        "X, y = load_iris(return_X_y=True)\n",
        "X_train, X_test, y_train, y_test = train_test_split(X, y, test_size=0.3, random_state=42)\n",
        "\n",
        "model = SVC(kernel='linear')\n",
        "model.fit(X_train, y_train)\n",
        "y_pred = model.predict(X_test)\n",
        "\n",
        "print(\"Accuracy:\", accuracy_score(y_test, y_pred))\n"
      ]
    },
    {
      "cell_type": "code",
      "source": [
        "# 2. Write a Python program to train two SVM classifiers with Linear and RBF kernels on the Wine dataset, then compare their accuracies\n",
        "\n",
        "from sklearn.datasets import load_wine\n",
        "from sklearn.svm import SVC\n",
        "from sklearn.model_selection import train_test_split\n",
        "from sklearn.metrics import accuracy_score\n",
        "\n",
        "X, y = load_wine(return_X_y=True)\n",
        "X_train, X_test, y_train, y_test = train_test_split(X, y, test_size=0.3, random_state=42)\n",
        "\n",
        "model_linear = SVC(kernel='linear')\n",
        "model_rbf = SVC(kernel='rbf')\n",
        "\n",
        "model_linear.fit(X_train, y_train)\n",
        "model_rbf.fit(X_train, y_train)\n",
        "\n",
        "y_pred_linear = model_linear.predict(X_test)\n",
        "y_pred_rbf = model_rbf.predict(X_test)\n",
        "\n",
        "print(\"Linear Kernel Accuracy:\", accuracy_score(y_test, y_pred_linear))\n",
        "print(\"RBF Kernel Accuracy:\", accuracy_score(y_test, y_pred_rbf))\n"
      ],
      "metadata": {
        "colab": {
          "base_uri": "https://localhost:8080/"
        },
        "id": "LcKbkROd-MZP",
        "outputId": "86780e3b-501a-436b-d6f6-25668971dc8c"
      },
      "execution_count": 2,
      "outputs": [
        {
          "output_type": "stream",
          "name": "stdout",
          "text": [
            "Linear Kernel Accuracy: 0.9814814814814815\n",
            "RBF Kernel Accuracy: 0.7592592592592593\n"
          ]
        }
      ]
    },
    {
      "cell_type": "code",
      "source": [
        "# 3. Write a Python program to train an SVM Regressor (SVR) on a housing dataset and evaluate it using Mean Squared Error (MSE)\n",
        "\n",
        "from sklearn.datasets import fetch_california_housing\n",
        "from sklearn.svm import SVR\n",
        "from sklearn.model_selection import train_test_split\n",
        "from sklearn.metrics import mean_squared_error\n",
        "\n",
        "X, y = fetch_california_housing(return_X_y=True)\n",
        "X_train, X_test, y_train, y_test = train_test_split(X, y, test_size=0.3, random_state=42)\n",
        "\n",
        "model = SVR(kernel='rbf')\n",
        "model.fit(X_train, y_train)\n",
        "y_pred = model.predict(X_test)\n",
        "\n",
        "print(\"MSE:\", mean_squared_error(y_test, y_pred))\n"
      ],
      "metadata": {
        "colab": {
          "base_uri": "https://localhost:8080/"
        },
        "id": "XbrRCSRy-OqF",
        "outputId": "64d6b7c6-8993-4d3f-e82b-87c553583bae"
      },
      "execution_count": 3,
      "outputs": [
        {
          "output_type": "stream",
          "name": "stdout",
          "text": [
            "MSE: 1.3489971413208723\n"
          ]
        }
      ]
    },
    {
      "cell_type": "code",
      "source": [
        "# 4. Write a Python program to train an SVM Classifier with a Polynomial Kernel and visualize the decision boundary\n",
        "\n",
        "from sklearn.datasets import make_classification\n",
        "from sklearn.svm import SVC\n",
        "from sklearn.model_selection import train_test_split\n",
        "import matplotlib.pyplot as plt\n",
        "import numpy as np\n",
        "\n",
        "X, y = make_classification(n_features=2, n_redundant=0, n_informative=2,\n",
        "                           n_clusters_per_class=1, n_samples=100, random_state=42)\n",
        "X_train, X_test, y_train, y_test = train_test_split(X, y, random_state=42)\n",
        "\n",
        "model = SVC(kernel='poly', degree=3)\n",
        "model.fit(X_train, y_train)\n",
        "\n",
        "# Plotting\n",
        "h = 0.02\n",
        "x_min, x_max = X[:, 0].min() - 1, X[:, 0].max() + 1\n",
        "y_min, y_max = X[:, 1].min() - 1, X[:, 1].max() + 1\n",
        "xx, yy = np.meshgrid(np.arange(x_min, x_max, h),\n",
        "                     np.arange(y_min, y_max, h))\n",
        "Z = model.predict(np.c_[xx.ravel(), yy.ravel()])\n",
        "Z = Z.reshape(xx.shape)\n",
        "\n",
        "plt.contourf(xx, yy, Z, alpha=0.8)\n",
        "plt.scatter(X[:, 0], X[:, 1], c=y, edgecolors='k')\n",
        "plt.title(\"SVM with Polynomial Kernel\")\n",
        "plt.show()\n"
      ],
      "metadata": {
        "colab": {
          "base_uri": "https://localhost:8080/",
          "height": 452
        },
        "id": "a0TQXis7-Pw_",
        "outputId": "78d5275b-3a54-433c-b8db-01d2e96e3f2c"
      },
      "execution_count": 4,
      "outputs": [
        {
          "output_type": "display_data",
          "data": {
            "text/plain": [
              "<Figure size 640x480 with 1 Axes>"
            ],
            "image/png": "[encoded data removed]"
          },
          "metadata": {}
        }
      ]
    },
    {
      "cell_type": "code",
      "source": [
        "# 5. Write a Python program to train a Gaussian Naïve Bayes classifier on the Breast Cancer dataset and evaluate accuracy\n",
        "\n",
        "from sklearn.datasets import load_breast_cancer\n",
        "from sklearn.naive_bayes import GaussianNB\n",
        "from sklearn.model_selection import train_test_split\n",
        "from sklearn.metrics import accuracy_score\n",
        "\n",
        "X, y = load_breast_cancer(return_X_y=True)\n",
        "X_train, X_test, y_train, y_test = train_test_split(X, y, test_size=0.3, random_state=42)\n",
        "\n",
        "model = GaussianNB()\n",
        "model.fit(X_train, y_train)\n",
        "y_pred = model.predict(X_test)\n",
        "\n",
        "print(\"Accuracy:\", accuracy_score(y_test, y_pred))\n"
      ],
      "metadata": {
        "colab": {
          "base_uri": "https://localhost:8080/"
        },
        "id": "2vXZ4-im-Qwm",
        "outputId": "40c92e27-338b-4ca4-ca2c-b7386bec2728"
      },
      "execution_count": 5,
      "outputs": [
        {
          "output_type": "stream",
          "name": "stdout",
          "text": [
            "Accuracy: 0.9415204678362573\n"
          ]
        }
      ]
    },
    {
      "cell_type": "code",
      "source": [
        "# 6. Write a Python program to train a Multinomial Naïve Bayes classifier for text classification using the 20 Newsgroups dataset\n",
        "\n",
        "from sklearn.datasets import fetch_20newsgroups\n",
        "from sklearn.feature_extraction.text import CountVectorizer\n",
        "from sklearn.naive_bayes import MultinomialNB\n",
        "from sklearn.model_selection import train_test_split\n",
        "from sklearn.metrics import accuracy_score\n",
        "\n",
        "data = fetch_20newsgroups(subset='train', remove=('headers', 'footers', 'quotes'))\n",
        "X = data.data\n",
        "y = data.target\n",
        "\n",
        "vectorizer = CountVectorizer()\n",
        "X_vect = vectorizer.fit_transform(X)\n",
        "\n",
        "X_train, X_test, y_train, y_test = train_test_split(X_vect, y, test_size=0.3, random_state=42)\n",
        "\n",
        "model = MultinomialNB()\n",
        "model.fit(X_train, y_train)\n",
        "y_pred = model.predict(X_test)\n",
        "\n",
        "print(\"Accuracy:\", accuracy_score(y_test, y_pred))\n"
      ],
      "metadata": {
        "colab": {
          "base_uri": "https://localhost:8080/"
        },
        "id": "diGBVAIM-VN3",
        "outputId": "5777d640-a4c3-4f6e-adfa-a6f7be6fa44d"
      },
      "execution_count": 6,
      "outputs": [
        {
          "output_type": "stream",
          "name": "stdout",
          "text": [
            "Accuracy: 0.5178203240058911\n"
          ]
        }
      ]
    },
    {
      "cell_type": "code",
      "source": [
        "# 7. Write a Python program to train an SVM Classifier with different C values and compare the decision boundaries visually\n",
        "\n",
        "from sklearn.datasets import make_classification\n",
        "from sklearn.svm import SVC\n",
        "import matplotlib.pyplot as plt\n",
        "import numpy as np\n",
        "\n",
        "X, y = make_classification(n_features=2, n_redundant=0, n_informative=2,\n",
        "                           n_clusters_per_class=1, n_samples=100, random_state=42)\n",
        "\n",
        "C_values = [0.1, 1, 10]\n",
        "plt.figure(figsize=(12, 3))\n",
        "\n",
        "for i, C in enumerate(C_values):\n",
        "    model = SVC(C=C, kernel='linear')\n",
        "    model.fit(X, y)\n",
        "\n",
        "    plt.subplot(1, 3, i+1)\n",
        "    ax = plt.gca()\n",
        "    xlim = ax.get_xlim()\n",
        "    ylim = ax.get_ylim()\n",
        "\n",
        "    xx = np.linspace(xlim[0], xlim[1])\n",
        "    yy = np.linspace(ylim[0], ylim[1])\n",
        "    YY, XX = np.meshgrid(yy, xx)\n",
        "    xy = np.vstack([XX.ravel(), YY.ravel()]).T\n",
        "    Z = model.decision_function(xy).reshape(XX.shape)\n",
        "\n",
        "    plt.contour(XX, YY, Z, levels=[0], linestyles=['-'])\n",
        "    plt.scatter(X[:, 0], X[:, 1], c=y)\n",
        "    plt.title(f'C = {C}')\n",
        "\n",
        "plt.tight_layout()\n",
        "plt.show()\n"
      ],
      "metadata": {
        "colab": {
          "base_uri": "https://localhost:8080/",
          "height": 307
        },
        "id": "BQE7Yb15-WLP",
        "outputId": "e58cc949-9713-41fb-e5fa-48efd39abc98"
      },
      "execution_count": 7,
      "outputs": [
        {
          "output_type": "display_data",
          "data": {
            "text/plain": [
              "<Figure size 1200x300 with 3 Axes>"
            ],
            "image/png": "[encoded data removed]"
          },
          "metadata": {}
        }
      ]
    },
    {
      "cell_type": "code",
      "source": [
        "# 8. Write a Python program to train a Bernoulli Naïve Bayes classifier for binary classification on a dataset with binary features\n",
        "\n",
        "from sklearn.naive_bayes import BernoulliNB\n",
        "from sklearn.model_selection import train_test_split\n",
        "from sklearn.metrics import accuracy_score\n",
        "from sklearn.datasets import make_classification\n",
        "\n",
        "X, y = make_classification(n_samples=1000, n_features=20, n_informative=2, n_classes=2, random_state=42)\n",
        "X = (X > 0).astype(int)\n",
        "\n",
        "X_train, X_test, y_train, y_test = train_test_split(X, y, test_size=0.3, random_state=42)\n",
        "\n",
        "model = BernoulliNB()\n",
        "model.fit(X_train, y_train)\n",
        "y_pred = model.predict(X_test)\n",
        "\n",
        "print(\"Accuracy:\", accuracy_score(y_test, y_pred))\n"
      ],
      "metadata": {
        "colab": {
          "base_uri": "https://localhost:8080/"
        },
        "id": "dpUHMCju-Xjo",
        "outputId": "b708db8c-dd6b-44f3-80a4-01464cab5eba"
      },
      "execution_count": 8,
      "outputs": [
        {
          "output_type": "stream",
          "name": "stdout",
          "text": [
            "Accuracy: 0.7966666666666666\n"
          ]
        }
      ]
    },
    {
      "cell_type": "code",
      "source": [
        "# 9. Write a Python program to apply feature scaling before training an SVM model and compare results with unscaled data\n",
        "\n",
        "from sklearn.datasets import load_wine\n",
        "from sklearn.svm import SVC\n",
        "from sklearn.model_selection import train_test_split\n",
        "from sklearn.preprocessing import StandardScaler\n",
        "from sklearn.metrics import accuracy_score\n",
        "\n",
        "X, y = load_wine(return_X_y=True)\n",
        "X_train, X_test, y_train, y_test = train_test_split(X, y, test_size=0.3, random_state=42)\n",
        "\n",
        "# Without Scaling\n",
        "model_unscaled = SVC()\n",
        "model_unscaled.fit(X_train, y_train)\n",
        "unscaled_acc = accuracy_score(y_test, model_unscaled.predict(X_test))\n",
        "\n",
        "# With Scaling\n",
        "scaler = StandardScaler()\n",
        "X_train_scaled = scaler.fit_transform(X_train)\n",
        "X_test_scaled = scaler.transform(X_test)\n",
        "\n",
        "model_scaled = SVC()\n",
        "model_scaled.fit(X_train_scaled, y_train)\n",
        "scaled_acc = accuracy_score(y_test, model_scaled.predict(X_test_scaled))\n",
        "\n",
        "print(\"Accuracy without scaling:\", unscaled_acc)\n",
        "print(\"Accuracy with scaling:\", scaled_acc)\n"
      ],
      "metadata": {
        "colab": {
          "base_uri": "https://localhost:8080/"
        },
        "id": "Usatu7s_-YuY",
        "outputId": "87f92d04-f2c4-4bde-98ff-e329cb37d064"
      },
      "execution_count": 9,
      "outputs": [
        {
          "output_type": "stream",
          "name": "stdout",
          "text": [
            "Accuracy without scaling: 0.7592592592592593\n",
            "Accuracy with scaling: 0.9814814814814815\n"
          ]
        }
      ]
    },
    {
      "cell_type": "code",
      "source": [
        "# 10. Write a Python program to train a Gaussian Naïve Bayes model and compare the predictions before and after Laplace Smoothing\n",
        "\n",
        "from sklearn.datasets import load_iris\n",
        "from sklearn.naive_bayes import GaussianNB\n",
        "from sklearn.model_selection import train_test_split\n",
        "from sklearn.metrics import accuracy_score\n",
        "\n",
        "X, y = load_iris(return_X_y=True)\n",
        "X_train, X_test, y_train, y_test = train_test_split(X, y, test_size=0.3, random_state=42)\n",
        "\n",
        "model = GaussianNB()\n",
        "model.fit(X_train, y_train)\n",
        "y_pred = model.predict(X_test)\n",
        "\n",
        "# Laplace smoothing doesn't apply to GaussianNB, used in MultinomialNB\n",
        "print(\"Accuracy (GaussianNB - no Laplace):\", accuracy_score(y_test, y_pred))\n"
      ],
      "metadata": {
        "colab": {
          "base_uri": "https://localhost:8080/"
        },
        "id": "rDyipVPx-Zlp",
        "outputId": "6bc4df60-a649-43f5-8939-5c40ce137824"
      },
      "execution_count": 10,
      "outputs": [
        {
          "output_type": "stream",
          "name": "stdout",
          "text": [
            "Accuracy (GaussianNB - no Laplace): 0.9777777777777777\n"
          ]
        }
      ]
    },
    {
      "cell_type": "code",
      "source": [
        "# 11. Write a Python program to train an SVM Classifier and use GridSearchCV to tune the hyperparameters (C, gamma, kernel)\n",
        "\n",
        "from sklearn.datasets import load_iris\n",
        "from sklearn.model_selection import train_test_split, GridSearchCV\n",
        "from sklearn.svm import SVC\n",
        "from sklearn.metrics import accuracy_score\n",
        "\n",
        "X, y = load_iris(return_X_y=True)\n",
        "X_train, X_test, y_train, y_test = train_test_split(X, y, test_size=0.3, random_state=42)\n",
        "\n",
        "params = {\n",
        "    'C': [0.1, 1, 10],\n",
        "    'gamma': ['scale', 0.01, 0.1],\n",
        "    'kernel': ['linear', 'rbf']\n",
        "}\n",
        "\n",
        "grid = GridSearchCV(SVC(), params, cv=5)\n",
        "grid.fit(X_train, y_train)\n",
        "y_pred = grid.predict(X_test)\n",
        "\n",
        "print(\"Best Parameters:\", grid.best_params_)\n",
        "print(\"Accuracy after Grid Search:\", accuracy_score(y_test, y_pred))\n"
      ],
      "metadata": {
        "colab": {
          "base_uri": "https://localhost:8080/"
        },
        "id": "WbeH5vE8-bQJ",
        "outputId": "d4769ed4-f687-4b2f-e994-8d595bb8d894"
      },
      "execution_count": 11,
      "outputs": [
        {
          "output_type": "stream",
          "name": "stdout",
          "text": [
            "Best Parameters: {'C': 1, 'gamma': 'scale', 'kernel': 'linear'}\n",
            "Accuracy after Grid Search: 1.0\n"
          ]
        }
      ]
    },
    {
      "cell_type": "code",
      "source": [
        "# 12. Write a Python program to train an SVM Classifier on an imbalanced dataset and apply class weighting and check if it improves accuracy\n",
        "\n",
        "from sklearn.datasets import make_classification\n",
        "from sklearn.svm import SVC\n",
        "from sklearn.model_selection import train_test_split\n",
        "from sklearn.metrics import accuracy_score\n",
        "\n",
        "X, y = make_classification(n_classes=2, class_sep=2,\n",
        "                           weights=[0.9, 0.1], n_informative=3, n_redundant=1,\n",
        "                           flip_y=0, n_features=20, n_clusters_per_class=1,\n",
        "                           n_samples=1000, random_state=42)\n",
        "\n",
        "X_train, X_test, y_train, y_test = train_test_split(X, y, test_size=0.3, random_state=42)\n",
        "\n",
        "# Without class weight\n",
        "model = SVC()\n",
        "model.fit(X_train, y_train)\n",
        "pred_default = model.predict(X_test)\n",
        "acc_default = accuracy_score(y_test, pred_default)\n",
        "\n",
        "# With class weight\n",
        "model_weighted = SVC(class_weight='balanced')\n",
        "model_weighted.fit(X_train, y_train)\n",
        "pred_weighted = model_weighted.predict(X_test)\n",
        "acc_weighted = accuracy_score(y_test, pred_weighted)\n",
        "\n",
        "print(\"Accuracy without class weight:\", acc_default)\n",
        "print(\"Accuracy with class weight:\", acc_weighted)\n"
      ],
      "metadata": {
        "colab": {
          "base_uri": "https://localhost:8080/"
        },
        "id": "BCp8Mn5d-cJ6",
        "outputId": "ecf93fef-00ef-457d-ca3a-39af547f104c"
      },
      "execution_count": 12,
      "outputs": [
        {
          "output_type": "stream",
          "name": "stdout",
          "text": [
            "Accuracy without class weight: 1.0\n",
            "Accuracy with class weight: 1.0\n"
          ]
        }
      ]
    },
    {
      "cell_type": "code",
      "source": [
        "# 13. Write a Python program to implement a Naïve Bayes classifier for spam detection using email data=\n",
        "from sklearn.model_selection import train_test_split\n",
        "from sklearn.feature_extraction.text import CountVectorizer\n",
        "from sklearn.naive_bayes import MultinomialNB\n",
        "from sklearn.metrics import accuracy_score\n",
        "\n",
        "emails = [\"Win money now!\", \"Hi John, are we still meeting today?\", \"Congratulations, you've won a prize!\",\n",
        "          \"Please find the attached report.\", \"Free entry in a contest\", \"Are you available for a meeting tomorrow?\"]\n",
        "labels = [1, 0, 1, 0, 1, 0]  # 1 = spam, 0 = not spam\n",
        "\n",
        "vectorizer = CountVectorizer()\n",
        "X = vectorizer.fit_transform(emails)\n",
        "y = labels\n",
        "\n",
        "X_train, X_test, y_train, y_test = train_test_split(X, y, test_size=0.3, random_state=42)\n",
        "\n",
        "model = MultinomialNB()\n",
        "model.fit(X_train, y_train)\n",
        "y_pred = model.predict(X_test)\n",
        "\n",
        "print(\"Accuracy:\", accuracy_score(y_test, y_pred))\n"
      ],
      "metadata": {
        "colab": {
          "base_uri": "https://localhost:8080/"
        },
        "id": "Ct98h8Vu-dSL",
        "outputId": "5ef5f1c5-4c0d-4007-805c-251aa94ef58d"
      },
      "execution_count": 13,
      "outputs": [
        {
          "output_type": "stream",
          "name": "stdout",
          "text": [
            "Accuracy: 1.0\n"
          ]
        }
      ]
    },
    {
      "cell_type": "code",
      "source": [
        "# 14. Write a Python program to train an SVM Classifier and a Naïve Bayes Classifier on the same dataset and\n",
        "compare their accuracy=\n",
        "\n",
        "from sklearn.datasets import load_iris\n",
        "from sklearn.svm import SVC\n",
        "from sklearn.naive_bayes import GaussianNB\n",
        "\n",
        "X, y = load_iris(return_X_y=True)\n",
        "X_train, X_test, y_train, y_test = train_test_split(X, y, test_size=0.3, random_state=42)\n",
        "\n",
        "svm_model = SVC()\n",
        "nb_model = GaussianNB()\n",
        "\n",
        "svm_model.fit(X_train, y_train)\n",
        "nb_model.fit(X_train, y_train)\n",
        "\n",
        "svm_acc = accuracy_score(y_test, svm_model.predict(X_test))\n",
        "nb_acc = accuracy_score(y_test, nb_model.predict(X_test))\n",
        "\n",
        "print(\"SVM Accuracy:\", svm_acc)\n",
        "print(\"Naïve Bayes Accuracy:\", nb_acc)\n"
      ],
      "metadata": {
        "colab": {
          "base_uri": "https://localhost:8080/"
        },
        "id": "Of6N_vGSABgQ",
        "outputId": "6a91a620-9cf3-43b3-9840-521de9c9c902"
      },
      "execution_count": 14,
      "outputs": [
        {
          "output_type": "stream",
          "name": "stdout",
          "text": [
            "SVM Accuracy: 1.0\n",
            "Naïve Bayes Accuracy: 0.9777777777777777\n"
          ]
        }
      ]
    },
    {
      "cell_type": "code",
      "source": [
        "# 15. Write a Python program to perform feature selection before training a Naïve Bayes classifier and compare results\n",
        "from sklearn.feature_selection import SelectKBest, chi2\n",
        "\n",
        "X_new = SelectKBest(chi2, k=2).fit_transform(X, y)\n",
        "X_train_new, X_test_new, _, _ = train_test_split(X_new, y, test_size=0.3, random_state=42)\n",
        "\n",
        "model_original = GaussianNB().fit(X_train, y_train)\n",
        "model_selected = GaussianNB().fit(X_train_new, y_train)\n",
        "\n",
        "acc_original = accuracy_score(y_test, model_original.predict(X_test))\n",
        "acc_selected = accuracy_score(y_test, model_selected.predict(X_test_new))\n",
        "\n",
        "print(\"Accuracy with all features:\", acc_original)\n",
        "print(\"Accuracy with selected features:\", acc_selected)\n"
      ],
      "metadata": {
        "colab": {
          "base_uri": "https://localhost:8080/"
        },
        "id": "XtJnfalRAGZ6",
        "outputId": "964dce21-517d-44d9-b518-78dd7204ff23"
      },
      "execution_count": 15,
      "outputs": [
        {
          "output_type": "stream",
          "name": "stdout",
          "text": [
            "Accuracy with all features: 0.9777777777777777\n",
            "Accuracy with selected features: 1.0\n"
          ]
        }
      ]
    },
    {
      "cell_type": "code",
      "source": [
        "# 16. Write a Python program to train an SVM Classifier using One-vs-Rest (OvR) and One-vs-One (OvO) strategies on the Wine dataset and compare their accuracy\n",
        "from sklearn.datasets import load_wine\n",
        "from sklearn.svm import SVC\n",
        "from sklearn.multiclass import OneVsRestClassifier, OneVsOneClassifier\n",
        "from sklearn.model_selection import train_test_split\n",
        "from sklearn.metrics import accuracy_score\n",
        "\n",
        "X, y = load_wine(return_X_y=True)\n",
        "X_train, X_test, y_train, y_test = train_test_split(X, y, test_size=0.3, random_state=42)\n",
        "\n",
        "ovr_model = OneVsRestClassifier(SVC(kernel='linear')).fit(X_train, y_train)\n",
        "ovo_model = OneVsOneClassifier(SVC(kernel='linear')).fit(X_train, y_train)\n",
        "\n",
        "ovr_acc = accuracy_score(y_test, ovr_model.predict(X_test))\n",
        "ovo_acc = accuracy_score(y_test, ovo_model.predict(X_test))\n",
        "\n",
        "print(\"OvR Accuracy:\", ovr_acc)\n",
        "print(\"OvO Accuracy:\", ovo_acc)\n"
      ],
      "metadata": {
        "colab": {
          "base_uri": "https://localhost:8080/"
        },
        "id": "Gx7xG0CtAHsr",
        "outputId": "7078f13f-93df-4afb-9719-0d2fef9c4df3"
      },
      "execution_count": 16,
      "outputs": [
        {
          "output_type": "stream",
          "name": "stdout",
          "text": [
            "OvR Accuracy: 0.9814814814814815\n",
            "OvO Accuracy: 0.9814814814814815\n"
          ]
        }
      ]
    },
    {
      "cell_type": "code",
      "source": [
        "# 17. Write a Python program to train an SVM Classifier using Linear, Polynomial, and RBF kernels on the Breast Cancer dataset and compare their accuracy\n",
        "from sklearn.datasets import load_breast_cancer\n",
        "from sklearn.model_selection import train_test_split\n",
        "from sklearn.svm import SVC\n",
        "from sklearn.metrics import accuracy_score\n",
        "\n",
        "X, y = load_breast_cancer(return_X_y=True)\n",
        "X_train, X_test, y_train, y_test = train_test_split(X, y, test_size=0.3, random_state=42)\n",
        "\n",
        "kernels = ['linear', 'poly', 'rbf']\n",
        "for kernel in kernels:\n",
        "    model = SVC(kernel=kernel)\n",
        "    model.fit(X_train, y_train)\n",
        "    y_pred = model.predict(X_test)\n",
        "    print(f\"{kernel} kernel accuracy:\", accuracy_score(y_test, y_pred))\n"
      ],
      "metadata": {
        "colab": {
          "base_uri": "https://localhost:8080/"
        },
        "id": "cv1qM_vHAVXm",
        "outputId": "875b26fa-8529-480a-b57c-4eb445e53a44"
      },
      "execution_count": 17,
      "outputs": [
        {
          "output_type": "stream",
          "name": "stdout",
          "text": [
            "linear kernel accuracy: 0.9649122807017544\n",
            "poly kernel accuracy: 0.9415204678362573\n",
            "rbf kernel accuracy: 0.935672514619883\n"
          ]
        }
      ]
    },
    {
      "cell_type": "code",
      "source": [
        "# 18. Write a Python program to train an SVM Classifier using Stratified K-Fold Cross-Validation and compute the average accuracy\n",
        "from sklearn.model_selection import StratifiedKFold, cross_val_score\n",
        "\n",
        "model = SVC(kernel='linear')\n",
        "skf = StratifiedKFold(n_splits=5)\n",
        "scores = cross_val_score(model, X, y, cv=skf)\n",
        "\n",
        "print(\"Cross-validation scores:\", scores)\n",
        "print(\"Average Accuracy:\", scores.mean())\n"
      ],
      "metadata": {
        "colab": {
          "base_uri": "https://localhost:8080/"
        },
        "id": "ICQdvEN0AWvg",
        "outputId": "4c6532c1-2eae-4135-e34a-2e2aee9436fc"
      },
      "execution_count": 18,
      "outputs": [
        {
          "output_type": "stream",
          "name": "stdout",
          "text": [
            "Cross-validation scores: [0.94736842 0.92982456 0.97368421 0.92105263 0.95575221]\n",
            "Average Accuracy: 0.9455364073901569\n"
          ]
        }
      ]
    },
    {
      "cell_type": "code",
      "source": [
        "# 19. Write a Python program to train a Naïve Bayes classifier using different prior probabilities and compare performance\n",
        "model_uniform = GaussianNB(priors=[0.5, 0.5])\n",
        "model_uniform.fit(X_train, y_train)\n",
        "acc_uniform = accuracy_score(y_test, model_uniform.predict(X_test))\n",
        "\n",
        "model_custom = GaussianNB(priors=[0.3, 0.7])\n",
        "model_custom.fit(X_train, y_train)\n",
        "acc_custom = accuracy_score(y_test, model_custom.predict(X_test))\n",
        "\n",
        "print(\"Accuracy with uniform priors:\", acc_uniform)\n",
        "print(\"Accuracy with custom priors:\", acc_custom)\n"
      ],
      "metadata": {
        "colab": {
          "base_uri": "https://localhost:8080/"
        },
        "id": "mzVP-uTUAXsw",
        "outputId": "397f68b0-da7d-4e50-9bf7-53bd1080543f"
      },
      "execution_count": 19,
      "outputs": [
        {
          "output_type": "stream",
          "name": "stdout",
          "text": [
            "Accuracy with uniform priors: 0.9415204678362573\n",
            "Accuracy with custom priors: 0.9473684210526315\n"
          ]
        }
      ]
    },
    {
      "cell_type": "code",
      "source": [
        "# 20. Write a Python program to perform Recursive Feature Elimination (RFE) before training an SVM Classifier and compare accuracy\n",
        "rom sklearn.feature_selection import RFE\n",
        "\n",
        "model = SVC(kernel='linear')\n",
        "rfe = RFE(model, n_features_to_select=5)\n",
        "rfe.fit(X_train, y_train)\n",
        "\n",
        "print(\"Selected features:\", rfe.support_)\n",
        "print(\"Model accuracy after RFE:\", accuracy_score(y_test, rfe.predict(X_test)))\n"
      ],
      "metadata": {
        "colab": {
          "base_uri": "https://localhost:8080/"
        },
        "id": "mCi08xS1AYfQ",
        "outputId": "007c5796-10a8-4e19-f17e-691fdde03a89"
      },
      "execution_count": 20,
      "outputs": [
        {
          "output_type": "stream",
          "name": "stdout",
          "text": [
            "Selected features: [False False False False False False False  True False False  True False\n",
            " False False False False False False False False False False False False\n",
            " False False  True  True  True False]\n",
            "Model accuracy after RFE: 0.9298245614035088\n"
          ]
        }
      ]
    },
    {
      "cell_type": "code",
      "source": [
        "# 21. Write a Python program to train an SVM Classifier and evaluate its performance using Precision, Recall, and F1-Score instead of accuracy\n",
        "from sklearn.metrics import precision_score, recall_score, f1_score\n",
        "\n",
        "model = SVC()\n",
        "model.fit(X_train, y_train)\n",
        "y_pred = model.predict(X_test)\n",
        "\n",
        "print(\"Precision:\", precision_score(y_test, y_pred))\n",
        "print(\"Recall:\", recall_score(y_test, y_pred))\n",
        "print(\"F1 Score:\", f1_score(y_test, y_pred))\n"
      ],
      "metadata": {
        "colab": {
          "base_uri": "https://localhost:8080/"
        },
        "id": "ROKcxFP1AZY6",
        "outputId": "f4aa2403-344e-40f2-dd23-00a766a92885"
      },
      "execution_count": 21,
      "outputs": [
        {
          "output_type": "stream",
          "name": "stdout",
          "text": [
            "Precision: 0.907563025210084\n",
            "Recall: 1.0\n",
            "F1 Score: 0.9515418502202643\n"
          ]
        }
      ]
    },
    {
      "cell_type": "code",
      "source": [
        "# 22. Write a Python program to train a Naïve Bayes Classifier and evaluate its performance using Log Loss (Cross-Entropy Loss)\n",
        "from sklearn.metrics import log_loss\n",
        "\n",
        "model = GaussianNB()\n",
        "model.fit(X_train, y_train)\n",
        "y_proba = model.predict_proba(X_test)\n",
        "\n",
        "print(\"Log Loss:\", log_loss(y_test, y_proba))\n"
      ],
      "metadata": {
        "colab": {
          "base_uri": "https://localhost:8080/"
        },
        "id": "C05GyFVPAaMv",
        "outputId": "957b4329-9529-4b6b-ad02-f09b697a77c2"
      },
      "execution_count": 22,
      "outputs": [
        {
          "output_type": "stream",
          "name": "stdout",
          "text": [
            "Log Loss: 0.48986013210958873\n"
          ]
        }
      ]
    },
    {
      "cell_type": "code",
      "source": [
        "# 23. Write a Python program to train an SVM Classifier and visualize the Confusion Matrix using seaborn\n",
        "import seaborn as sns\n",
        "import matplotlib.pyplot as plt\n",
        "from sklearn.metrics import confusion_matrix\n",
        "\n",
        "model = SVC()\n",
        "model.fit(X_train, y_train)\n",
        "y_pred = model.predict(X_test)\n",
        "\n",
        "cm = confusion_matrix(y_test, y_pred)\n",
        "sns.heatmap(cm, annot=True, fmt='d', cmap='Blues')\n",
        "plt.title(\"Confusion Matrix\")\n",
        "plt.xlabel(\"Predicted\")\n",
        "plt.ylabel(\"Actual\")\n",
        "plt.show()\n"
      ],
      "metadata": {
        "colab": {
          "base_uri": "https://localhost:8080/",
          "height": 472
        },
        "id": "0Ll5kUO4Aa-Z",
        "outputId": "0da6d8c7-331f-4848-b454-766b1334bcc2"
      },
      "execution_count": 23,
      "outputs": [
        {
          "output_type": "display_data",
          "data": {
            "text/plain": [
              "<Figure size 640x480 with 2 Axes>"
            ],
            "image/png": "[encoded data removed]"
          },
          "metadata": {}
        }
      ]
    },
    {
      "cell_type": "code",
      "source": [
        "# 24. Write a Python program to train an SVM Regressor (SVR) and evaluate its performance using Mean Absolute Error (MAE) instead of MSE\n",
        "from sklearn.svm import SVR\n",
        "from sklearn.metrics import mean_absolute_error\n",
        "from sklearn.datasets import fetch_california_housing\n",
        "\n",
        "data = fetch_california_housing()\n",
        "X, y = data.data, data.target\n",
        "\n",
        "X_train, X_test, y_train, y_test = train_test_split(X, y, test_size=0.3, random_state=42)\n",
        "model = SVR()\n",
        "model.fit(X_train, y_train)\n",
        "y_pred = model.predict(X_test)\n",
        "\n",
        "print(\"Mean Absolute Error:\", mean_absolute_error(y_test, y_pred))\n"
      ],
      "metadata": {
        "colab": {
          "base_uri": "https://localhost:8080/"
        },
        "id": "WmQqtAZWAm-c",
        "outputId": "c31543ab-d15d-4ebf-ebd2-1e78a26ebfd6"
      },
      "execution_count": 24,
      "outputs": [
        {
          "output_type": "stream",
          "name": "stdout",
          "text": [
            "Mean Absolute Error: 0.8664984635504496\n"
          ]
        }
      ]
    },
    {
      "cell_type": "code",
      "source": [
        "# 25. Write a Python program to train a Naïve Bayes classifier and evaluate its performance using the ROC-AUC score\n",
        "from sklearn.metrics import roc_auc_score\n",
        "\n",
        "X, y = load_breast_cancer(return_X_y=True)\n",
        "X_train, X_test, y_train, y_test = train_test_split(X, y, test_size=0.3, random_state=42)\n",
        "\n",
        "model = GaussianNB()\n",
        "model.fit(X_train, y_train)\n",
        "y_proba = model.predict_proba(X_test)[:, 1]\n",
        "\n",
        "print(\"ROC-AUC Score:\", roc_auc_score(y_test, y_proba))\n"
      ],
      "metadata": {
        "colab": {
          "base_uri": "https://localhost:8080/"
        },
        "id": "Knacv2fUAo0G",
        "outputId": "1916b49b-a8c5-4bcb-f6a8-b19ba9adb835"
      },
      "execution_count": 27,
      "outputs": [
        {
          "output_type": "stream",
          "name": "stdout",
          "text": [
            "ROC-AUC Score: 0.9922104644326867\n"
          ]
        }
      ]
    },
    {
      "cell_type": "markdown",
      "source": [
        "#THANK YOU"
      ],
      "metadata": {
        "id": "YOZRAcKYB-jx"
      }
    },
    {
      "cell_type": "code",
      "source": [],
      "metadata": {
        "id": "djx1aW-bApx9"
      },
      "execution_count": null,
      "outputs": []
    }
  ]
}